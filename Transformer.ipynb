{
 "cells": [
  {
   "cell_type": "markdown",
   "metadata": {},
   "source": [
    "## Full Transformer Architecture\n",
    "<img src=\"images/Transformer_arch.png\" width=450, height=600>"
   ]
  },
  {
   "cell_type": "markdown",
   "metadata": {},
   "source": [
    "## Notes\n",
    "- The attention mechanism view its input as a set rather than a sequence, aka it is in itself position-invariant. However in language processing, the order of words is important $\\rightarrow$ need positional encoding.\n",
    "- Multi-head self-attention (input: $b$ sequences (batch-size), each sequence has $t$ tokens, each token has $k$ dimension, $h$ heads)\n",
    "    1. Project the input of dimension $(t, k)$ into $h$ inputs of dimension $(t, \\frac{k}{h})$ with $3 \\times h$ (3 for key, query, value) projection matrices size $(k, \\frac{k}{h})$\n",
    "    2. The outputs are the concatenated $\\rightarrow$ size $(t, k)$ $\\rightarrow$ put through a \"unify matrix\" with size $(k, k)$"
   ]
  },
  {
   "cell_type": "code",
   "execution_count": 1,
   "metadata": {},
   "outputs": [],
   "source": [
    "import torch\n",
    "from  torch import nn\n",
    "from torch import Tensor"
   ]
  },
  {
   "cell_type": "code",
   "execution_count": null,
   "metadata": {},
   "outputs": [],
   "source": [
    "class SelfAttention():\n",
    "    def __init__(self, token_dims: int, n_heads: int) -> None:\n",
    "        self.n_heads = n_heads\n",
    "        self.token_dims = token_dims\n",
    "        self.head_dims = self.token_dims // self.n_heads\n",
    "\n",
    "        assert (self.head_dims*self.n_heads == self.token_dims)     # the number of token's dimensions must be divisible by number of heads\n",
    "\n",
    "        self.projection = nn.Linear(in_features=self.token_dims, out_features=self.head_dims, bias=False)\n",
    "        self.key_transform = nn.Linear(in_features=self.head_dims, out_features=self.head_dims, bias=False)\n",
    "        self.query_transform = nn.Linear(in_features=self.head_dims, out_features=self.head_dims, bias=False)\n",
    "        self.value_transform = nn.Linear(in_features=self.head_dims, out_features=self.head_dims, bias=False)\n",
    "\n",
    "        self.unify = nn.Linear(self.token_dims, self.token_dims)\n",
    "        \n",
    "    def forward(self, X: Tensor):           # X: (b, t, k)\n",
    "        self.batch_size, self.n_tokens = X.shape[0], X.shape[1]\n",
    "\n",
    "        key = self.key_transform(X)         # key: (b, t, k)\n",
    "        query = self.query_transform(X)\n",
    "        value = self.value_transform(X)\n",
    "\n",
    "        key = key.view(self.batch_size, self.n_tokens, self.n_heads, self.head_dims)\n",
    "        query = query.view(self.batch_size, self.n_tokens, self.n_heads, self.head_dims)\n",
    "        value = value.view(self.batch_size, self.n_tokens, self.n_heads, self.head_dims)\n",
    "\n",
    "        key = key.transpose(1, 2).contiguous().view(self.batch_size, self.n_heads, self.n_tokens, self.head_dims)       # prepare for matrix multiplication\n",
    "        query = query.transpose(1, 2).contiguous().view(self.batch_size, self.n_heads, self.n_tokens, self.head_dims)\n",
    "        value = value.transpose(1, 2).contiguous().view(self.batch_size, self.n_heads, self.n_tokens, self.head_dims)   # (b, h, t, s)\n",
    "\n",
    "        dot_prod = torch.bmm(query, key.transpose(1, 2)) / torch.sqrt(self.head_dims)   # dot_prod: (b, h, t, t)\n",
    "        weights = torch.softmax(dot_prod, dim=2)                                        # soft-max in the key dimension\n",
    "        out = torch.bmm(weights, value)                                                 # (b, h, t, s)\n",
    "\n",
    "        out.transpose(1, 2).view(self.batch_size, self.n_tokens, self.n_heads*self.head_dims)\n",
    "        out = self.unify(out)\n",
    "        return out"
   ]
  },
  {
   "cell_type": "markdown",
   "metadata": {},
   "source": [
    "## Resources\n",
    "    - https://peterbloem.nl/blog/transformers"
   ]
  }
 ],
 "metadata": {
  "kernelspec": {
   "display_name": "Python 3",
   "language": "python",
   "name": "python3"
  },
  "language_info": {
   "codemirror_mode": {
    "name": "ipython",
    "version": 3
   },
   "file_extension": ".py",
   "mimetype": "text/x-python",
   "name": "python",
   "nbconvert_exporter": "python",
   "pygments_lexer": "ipython3",
   "version": "3.11.4"
  }
 },
 "nbformat": 4,
 "nbformat_minor": 2
}
